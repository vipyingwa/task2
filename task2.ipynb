{
 "cells": [
  {
   "cell_type": "code",
   "execution_count": 1,
   "id": "844fcba8",
   "metadata": {},
   "outputs": [],
   "source": [
    "# Python script to scrape an article given the url of the article and store the extracted text in a file\n",
    "# Url: https://medium.com/@subashgandyer/papa-what-is-a-neural-network-c5e5cc427c7\n",
    "\n",
    "import os\n",
    "import requests\n",
    "import re"
   ]
  },
  {
   "cell_type": "code",
   "execution_count": 2,
   "id": "8bf1aeeb",
   "metadata": {},
   "outputs": [],
   "source": [
    "# Code here - Import BeautifulSoup library\n",
    "from bs4 import BeautifulSoup\n",
    "# Code ends here\n"
   ]
  },
  {
   "cell_type": "code",
   "execution_count": 3,
   "id": "d5b16d76",
   "metadata": {},
   "outputs": [],
   "source": [
    "# function to get the html source text of the medium article\n",
    "def get_page():\n",
    "\tglobal url\n",
    "\t\n",
    "\t# Code here - Ask the user to input \"Enter url of a medium article: \" and collect it in url\n",
    "\turl = input(\"Enter URL: \")\n",
    "\t# Code ends here\n",
    "\t\n",
    "\t# handling possible error\n",
    "\tif not re.match(r'https?://medium.com/',url):\n",
    "\t\tprint('Please enter a valid website, or make sure it is a medium article')\n",
    "\t\tsys.exit(1)\n",
    "\n",
    "\t# Code here - Call get method in requests object, pass url and collect it in res\n",
    "\tres = requests.get(url)\n",
    "\t# Code ends here\n",
    "\n",
    "\tres.raise_for_status()\n",
    "\tsoup = BeautifulSoup(res.text, 'html.parser')\n",
    "\treturn soup\n"
   ]
  },
  {
   "cell_type": "code",
   "execution_count": 4,
   "id": "e8b949b8",
   "metadata": {},
   "outputs": [],
   "source": [
    "# function to remove all the html tags and replace some with specific strings\n",
    "def clean(text):\n",
    "    rep = {\"<br>\": \"\\n\", \"<br/>\": \"\\n\", \"<li>\":  \"\\n\"}\n",
    "    rep = dict((re.escape(k), v) for k, v in rep.items()) \n",
    "    pattern = re.compile(\"|\".join(rep.keys()))\n",
    "    text = pattern.sub(lambda m: rep[re.escape(m.group(0))], text)\n",
    "    text = re.sub('\\<(.*?)\\>', '', text)\n",
    "    return text\n",
    "\n",
    "\n",
    "def collect_text(soup):\n",
    "    text = f'url: {url}\\n\\n'\n",
    "    para_text = soup.find_all('p')\n",
    "    print(f\"paragraphs text = \\n {para_text}\")\n",
    "    for para in para_text:\n",
    "        text += f\"{para.text}\\n\\n\"\n",
    "    return text"
   ]
  },
  {
   "cell_type": "code",
   "execution_count": 5,
   "id": "153f9c0d",
   "metadata": {},
   "outputs": [],
   "source": [
    "# function to save file in the current directory\n",
    "def save_file(text):\n",
    "\tif not os.path.exists('./scraped_articles'):\n",
    "\t\tos.mkdir('./scraped_articles')\n",
    "\tname = url.split(\"/\")[-1]\n",
    "\tprint(name)\n",
    "\tfname = f'scraped_articles/{name}.txt'\n",
    "\t\n",
    "\t# Code here - write a file using with (2 lines)\n",
    "\ts_file = open(fname, \"w\")\n",
    "\ts_file.write(text)\n",
    "\n",
    "\t# Code ends here\n",
    "\n",
    "\tprint(f'File saved in directory {fname}')"
   ]
  },
  {
   "cell_type": "code",
   "execution_count": null,
   "id": "b4c4d66f",
   "metadata": {},
   "outputs": [],
   "source": [
    "if __name__ == '__main__':\n",
    "    text = collect_text(get_page())\n",
    "    save_file(text)\n",
    "    # Instructions to Run this python code\n",
    "    # Give url as https://medium.com/@subashgandyer/papa-what-is-a-neural-network-c5e5cc427c7"
   ]
  },
  {
   "cell_type": "code",
   "execution_count": null,
   "id": "efe490f1",
   "metadata": {},
   "outputs": [],
   "source": []
  }
 ],
 "metadata": {
  "kernelspec": {
   "display_name": "Python 3 (ipykernel)",
   "language": "python",
   "name": "python3"
  },
  "language_info": {
   "codemirror_mode": {
    "name": "ipython",
    "version": 3
   },
   "file_extension": ".py",
   "mimetype": "text/x-python",
   "name": "python",
   "nbconvert_exporter": "python",
   "pygments_lexer": "ipython3",
   "version": "3.11.4"
  }
 },
 "nbformat": 4,
 "nbformat_minor": 5
}
